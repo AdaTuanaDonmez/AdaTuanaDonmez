{
  "nbformat": 4,
  "nbformat_minor": 0,
  "metadata": {
    "colab": {
      "provenance": [],
      "authorship_tag": "ABX9TyPkeoTAQLWlHBsxh2yL0QP1",
      "include_colab_link": true
    },
    "kernelspec": {
      "name": "python3",
      "display_name": "Python 3"
    },
    "language_info": {
      "name": "python"
    }
  },
  "cells": [
    {
      "cell_type": "markdown",
      "metadata": {
        "id": "view-in-github",
        "colab_type": "text"
      },
      "source": [
        "<a href=\"https://colab.research.google.com/github/AdaTuanaDonmez/AdaTuanaDonmez/blob/main/Build_Video_Recommender.ipynb\" target=\"_parent\"><img src=\"https://colab.research.google.com/assets/colab-badge.svg\" alt=\"Open In Colab\"/></a>"
      ]
    },
    {
      "cell_type": "code",
      "execution_count": null,
      "metadata": {
        "colab": {
          "base_uri": "https://localhost:8080/",
          "height": 17
        },
        "id": "oOAtuHLqLj5a",
        "outputId": "155612c8-b20c-487f-aade-90b87da09a8b"
      },
      "outputs": [
        {
          "output_type": "display_data",
          "data": {
            "text/plain": [
              "<IPython.core.display.Javascript object>"
            ],
            "application/javascript": [
              "\n",
              "    async function download(id, filename, size) {\n",
              "      if (!google.colab.kernel.accessAllowed) {\n",
              "        return;\n",
              "      }\n",
              "      const div = document.createElement('div');\n",
              "      const label = document.createElement('label');\n",
              "      label.textContent = `Downloading \"${filename}\": `;\n",
              "      div.appendChild(label);\n",
              "      const progress = document.createElement('progress');\n",
              "      progress.max = size;\n",
              "      div.appendChild(progress);\n",
              "      document.body.appendChild(div);\n",
              "\n",
              "      const buffers = [];\n",
              "      let downloaded = 0;\n",
              "\n",
              "      const channel = await google.colab.kernel.comms.open(id);\n",
              "      // Send a message to notify the kernel that we're ready.\n",
              "      channel.send({})\n",
              "\n",
              "      for await (const message of channel.messages) {\n",
              "        // Send a message to notify the kernel that we're ready.\n",
              "        channel.send({})\n",
              "        if (message.buffers) {\n",
              "          for (const buffer of message.buffers) {\n",
              "            buffers.push(buffer);\n",
              "            downloaded += buffer.byteLength;\n",
              "            progress.value = downloaded;\n",
              "          }\n",
              "        }\n",
              "      }\n",
              "      const blob = new Blob(buffers, {type: 'application/binary'});\n",
              "      const a = document.createElement('a');\n",
              "      a.href = window.URL.createObjectURL(blob);\n",
              "      a.download = filename;\n",
              "      div.appendChild(a);\n",
              "      a.click();\n",
              "      div.remove();\n",
              "    }\n",
              "  "
            ]
          },
          "metadata": {}
        },
        {
          "output_type": "display_data",
          "data": {
            "text/plain": [
              "<IPython.core.display.Javascript object>"
            ],
            "application/javascript": [
              "download(\"download_6d01e7ae-31bd-48f5-b808-87a66d9f8d9b\", \"viewer_profiles.txt\", 1000)"
            ]
          },
          "metadata": {}
        }
      ],
      "source": [
        "#BUILD A DATASET\n",
        "\n",
        "import numpy\n",
        "\n",
        "#100 inputs, 5 feature each\n",
        "#each input: viewer, each feature: channel\n",
        "\n",
        "X = numpy.zeros((100, 5),\n",
        "            dtype = 'bool')\n",
        "\n",
        "features = [ \"Investing101\",\n",
        "            \"FunnyCatVideos\",\n",
        "             \"BuraTech\",\n",
        "             \"MammothInteractive\",\n",
        "             \"VideoGameReviewer\" ]\n",
        "\n",
        "\n",
        "\n",
        "\n",
        "for viewer in range(X.shape[0]):\n",
        "\n",
        "  if numpy.random.random() < 0.3:   #30% of the time viewever views channel \"Investing101\", numpy.random.random() returns a value between 0 and 1\n",
        "    X[viewer][0] = 1\n",
        "\n",
        "    if numpy.random.random() < 0.5:\n",
        "      X[viewer][1] = 1\n",
        "\n",
        "    if numpy.random.random() < 0.2:\n",
        "      X[viewer][2] = 1\n",
        "\n",
        "    if numpy.random.random() < 0.3:\n",
        "      X[viewer][3] = 1\n",
        "\n",
        "    if numpy.random.random() < 0.4:\n",
        "      X[viewer][4] = 1\n",
        "\n",
        "  else:\n",
        "    if numpy.random.random() < 0.5:\n",
        "      X[viewer][1] = 1\n",
        "\n",
        "      if numpy.random.random() < 0.3:\n",
        "        X[viewer][2] = 1\n",
        "\n",
        "      if numpy.random.random() < 0.2:\n",
        "        X[viewer][3] = 1\n",
        "\n",
        "      if numpy.random.random() < 0.4:\n",
        "        X[viewer][4] = 1\n",
        "\n",
        "    else:\n",
        "\n",
        "       if numpy.random.random() < 0.7:\n",
        "        X[viewer][2] = 1\n",
        "\n",
        "       if numpy.random.random() < 0.55:\n",
        "        X[viewer][3] = 1\n",
        "\n",
        "       if numpy.random.random() < 0.8:\n",
        "        X[viewer][4] = 1\n",
        "\n",
        "  if X[viewer].sum() == 0:\n",
        "     X[viewer][4] = 1       #if they did not encounter any of the videos or did not like any of them, recommend them the last channel by default\n",
        "\n",
        "numpy.savetxt(\"viewer_profiles.txt\",\n",
        "              X,\n",
        "              fmt = \"%d\")\n",
        "\n",
        "from google.colab import files\n",
        "\n",
        "files.download(\"viewer_profiles.txt\")    #downloading to your PC"
      ]
    },
    {
      "cell_type": "code",
      "source": [
        "X = numpy.loadtxt(\"viewer_profiles.txt\")\n",
        "\n",
        "print(X.shape)"
      ],
      "metadata": {
        "colab": {
          "base_uri": "https://localhost:8080/"
        },
        "id": "fYdHd6S7ibjz",
        "outputId": "245400db-c2d1-4004-8dfb-87c6fbdedd5e"
      },
      "execution_count": null,
      "outputs": [
        {
          "output_type": "stream",
          "name": "stdout",
          "text": [
            "(100, 5)\n"
          ]
        }
      ]
    },
    {
      "cell_type": "code",
      "source": [
        "print(X[:5])"
      ],
      "metadata": {
        "colab": {
          "base_uri": "https://localhost:8080/"
        },
        "id": "WZ4yQSlLi667",
        "outputId": "1969e9dd-b738-439b-c8e9-5dd20ed0f3c4"
      },
      "execution_count": null,
      "outputs": [
        {
          "output_type": "stream",
          "name": "stdout",
          "text": [
            "[[1. 1. 0. 0. 0.]\n",
            " [0. 0. 1. 1. 1.]\n",
            " [1. 0. 0. 0. 1.]\n",
            " [0. 0. 1. 1. 0.]\n",
            " [0. 0. 0. 0. 1.]]\n"
          ]
        }
      ]
    },
    {
      "cell_type": "code",
      "source": [
        "number_of_MammothInteractive_likes = 0\n",
        "\n",
        "for viewer in X:\n",
        "\n",
        "  if viewer[3] == 1:\n",
        "    number_of_MammothInteractive_likes += 1\n",
        "\n",
        "print(number_of_MammothInteractive_likes)"
      ],
      "metadata": {
        "colab": {
          "base_uri": "https://localhost:8080/"
        },
        "id": "cRjFFcOLonVY",
        "outputId": "583c6d77-1905-4e1f-bb0b-61075bfe9364"
      },
      "execution_count": null,
      "outputs": [
        {
          "output_type": "stream",
          "name": "stdout",
          "text": [
            "32\n"
          ]
        }
      ]
    },
    {
      "cell_type": "code",
      "source": [
        "rule_valid = 0\n",
        "rule_invalid = 0\n",
        "\n",
        "for viewer in X:\n",
        "\n",
        "  if viewer[3] == 1:\n",
        "    if viewer[4] == 1:\n",
        "      rule_valid += 1\n",
        "    else:\n",
        "      rule_invalid += 1\n",
        "\n",
        "print( \"{} times the rule is valid.\".format(rule_valid))\n",
        "print( \"{} times the rule is invalid.\".format(rule_invalid))"
      ],
      "metadata": {
        "colab": {
          "base_uri": "https://localhost:8080/"
        },
        "id": "C6aOn9KRqKWO",
        "outputId": "e820b7fb-26f3-4505-f693-b550d96c2de1"
      },
      "execution_count": null,
      "outputs": [
        {
          "output_type": "stream",
          "name": "stdout",
          "text": [
            "20 times the rule is valid.\n",
            "12 times the rule is invalid.\n"
          ]
        }
      ]
    },
    {
      "cell_type": "code",
      "source": [
        "support = rule_valid\n",
        "\n",
        "confidence = rule_valid / number_of_MammothInteractive_likes\n",
        "\n",
        "print(\" Support: {0}\".format(support))\n",
        "\n",
        "print(\" Confidence: {0}\".format(confidence))\n"
      ],
      "metadata": {
        "colab": {
          "base_uri": "https://localhost:8080/"
        },
        "id": "u3hbespEq7g7",
        "outputId": "a2bcfd54-8197-447d-96af-bb1ea1575651"
      },
      "execution_count": null,
      "outputs": [
        {
          "output_type": "stream",
          "name": "stdout",
          "text": [
            " Support: 20\n",
            " Confidence: 0.625\n"
          ]
        }
      ]
    },
    {
      "cell_type": "code",
      "source": [
        "print(\"Confidence: {0:.1f}%\".format(100*confidence))"
      ],
      "metadata": {
        "colab": {
          "base_uri": "https://localhost:8080/"
        },
        "id": "ZhTJd0z9rler",
        "outputId": "6f59dae8-3928-4ab7-da56-6fc2d385cbce"
      },
      "execution_count": null,
      "outputs": [
        {
          "output_type": "stream",
          "name": "stdout",
          "text": [
            "Confidence: 62.5%\n"
          ]
        }
      ]
    },
    {
      "cell_type": "code",
      "source": [
        "number_of_samples, number_of_feautures = X.shape\n",
        "\n",
        "from collections import defaultdict\n",
        "\n",
        "number_of_occurences = defaultdict(int)\n",
        "\n",
        "times_rule_valid = defaultdict(int)\n",
        "\n",
        "times_rule_invalid = defaultdict(int)\n",
        "\n",
        "for viewer in X:\n",
        "\n",
        "  for premise in range(number_of_feautures):\n",
        "\n",
        "    if viewer[premise] == 0: continue\n",
        "\n",
        "    number_of_occurences[premise] += 1\n",
        "\n",
        "    for conclusion in range(number_of_feautures):\n",
        "\n",
        "      if premise == conclusion :    #premise is the first channel conclusion is the second\n",
        "        continue\n",
        "\n",
        "      if viewer[conclusion] == 1:\n",
        "\n",
        "        times_rule_valid[(premise, conclusion)] += 1\n",
        "\n",
        "      else:\n",
        "\n",
        "        times_rule_invalid[(premise, conclusion)] += 1\n",
        "\n",
        "support = times_rule_valid\n",
        "\n",
        "confidence = defaultdict(float)\n",
        "\n",
        "for premise, conclusion in times_rule_valid.keys():\n",
        "\n",
        "  confidence[(premise, conclusion)] = times_rule_valid[(premise, conclusion)] / number_of_occurences[premise]\n",
        "\n",
        "for premise, conclusion in confidence:\n",
        "\n",
        "  first_channel = features[premise]\n",
        "\n",
        "  second_channel = features[conclusion]\n",
        "\n",
        "  print(\"If a viewer like {0}, they will also like {1}\".format(first_channel, second_channel))\n",
        "\n",
        "  print(\"Confidence: {0:.1f}%\".format(100 * confidence[(premise, conclusion)]))\n",
        "\n",
        "  print(\"Support: {0}\".format(support[(premise,conclusion)]))\n",
        "\n",
        "  print()\n"
      ],
      "metadata": {
        "colab": {
          "base_uri": "https://localhost:8080/"
        },
        "id": "VXl9uByXsbMm",
        "outputId": "08e7832a-2d8f-4e97-ea87-697b6107c5e1"
      },
      "execution_count": null,
      "outputs": [
        {
          "output_type": "stream",
          "name": "stdout",
          "text": [
            "If a viewer like Investing101, they will also like FunnyCatVideos\n",
            "Confidence: 45.8%\n",
            "Support: 11\n",
            "\n",
            "If a viewer like FunnyCatVideos, they will also like Investing101\n",
            "Confidence: 23.9%\n",
            "Support: 11\n",
            "\n",
            "If a viewer like BuraTech, they will also like MammothInteractive\n",
            "Confidence: 43.2%\n",
            "Support: 16\n",
            "\n",
            "If a viewer like BuraTech, they will also like VideoGameReviewer\n",
            "Confidence: 64.9%\n",
            "Support: 24\n",
            "\n",
            "If a viewer like MammothInteractive, they will also like BuraTech\n",
            "Confidence: 50.0%\n",
            "Support: 16\n",
            "\n",
            "If a viewer like MammothInteractive, they will also like VideoGameReviewer\n",
            "Confidence: 62.5%\n",
            "Support: 20\n",
            "\n",
            "If a viewer like VideoGameReviewer, they will also like BuraTech\n",
            "Confidence: 41.4%\n",
            "Support: 24\n",
            "\n",
            "If a viewer like VideoGameReviewer, they will also like MammothInteractive\n",
            "Confidence: 34.5%\n",
            "Support: 20\n",
            "\n",
            "If a viewer like Investing101, they will also like VideoGameReviewer\n",
            "Confidence: 45.8%\n",
            "Support: 11\n",
            "\n",
            "If a viewer like VideoGameReviewer, they will also like Investing101\n",
            "Confidence: 19.0%\n",
            "Support: 11\n",
            "\n",
            "If a viewer like FunnyCatVideos, they will also like VideoGameReviewer\n",
            "Confidence: 45.7%\n",
            "Support: 21\n",
            "\n",
            "If a viewer like VideoGameReviewer, they will also like FunnyCatVideos\n",
            "Confidence: 36.2%\n",
            "Support: 21\n",
            "\n",
            "If a viewer like FunnyCatVideos, they will also like BuraTech\n",
            "Confidence: 21.7%\n",
            "Support: 10\n",
            "\n",
            "If a viewer like BuraTech, they will also like FunnyCatVideos\n",
            "Confidence: 27.0%\n",
            "Support: 10\n",
            "\n",
            "If a viewer like Investing101, they will also like MammothInteractive\n",
            "Confidence: 16.7%\n",
            "Support: 4\n",
            "\n",
            "If a viewer like FunnyCatVideos, they will also like MammothInteractive\n",
            "Confidence: 17.4%\n",
            "Support: 8\n",
            "\n",
            "If a viewer like MammothInteractive, they will also like Investing101\n",
            "Confidence: 12.5%\n",
            "Support: 4\n",
            "\n",
            "If a viewer like MammothInteractive, they will also like FunnyCatVideos\n",
            "Confidence: 25.0%\n",
            "Support: 8\n",
            "\n",
            "If a viewer like Investing101, they will also like BuraTech\n",
            "Confidence: 16.7%\n",
            "Support: 4\n",
            "\n",
            "If a viewer like BuraTech, they will also like Investing101\n",
            "Confidence: 10.8%\n",
            "Support: 4\n",
            "\n"
          ]
        }
      ]
    },
    {
      "cell_type": "code",
      "source": [
        "from pprint import pprint\n",
        "\n",
        "pprint(list(support.items()))"
      ],
      "metadata": {
        "colab": {
          "base_uri": "https://localhost:8080/"
        },
        "id": "2g_u7eZ-yCpy",
        "outputId": "2f234278-fb8c-4c1f-9a99-9bc09d2a3244"
      },
      "execution_count": null,
      "outputs": [
        {
          "output_type": "stream",
          "name": "stdout",
          "text": [
            "[((0, 1), 11),\n",
            " ((1, 0), 11),\n",
            " ((2, 3), 16),\n",
            " ((2, 4), 24),\n",
            " ((3, 2), 16),\n",
            " ((3, 4), 20),\n",
            " ((4, 2), 24),\n",
            " ((4, 3), 20),\n",
            " ((0, 4), 11),\n",
            " ((4, 0), 11),\n",
            " ((1, 4), 21),\n",
            " ((4, 1), 21),\n",
            " ((1, 2), 10),\n",
            " ((2, 1), 10),\n",
            " ((0, 3), 4),\n",
            " ((1, 3), 8),\n",
            " ((3, 0), 4),\n",
            " ((3, 1), 8),\n",
            " ((0, 2), 4),\n",
            " ((2, 0), 4)]\n"
          ]
        }
      ]
    },
    {
      "cell_type": "code",
      "source": [
        "from operator import itemgetter\n",
        "\n",
        "support_sorted = sorted(support.items(),\n",
        "                        key = itemgetter(1),\n",
        "                        reverse = True)\n",
        "\n",
        "def print_results(premise, conclusion, support, confidence, features):\n",
        "\n",
        "  first_channel = features[premise]\n",
        "\n",
        "  second_channel = features[conclusion]\n",
        "\n",
        "  print(\"If a viewer like {0}, they will also like {1}\".format(first_channel, second_channel))\n",
        "\n",
        "  print(\"Confidence: {0:.1f}%\".format(100 * confidence[(premise, conclusion)]))\n",
        "\n",
        "  print(\"Support: {0}\".format(support[(premise,conclusion)]))\n",
        "\n",
        "  print()\n",
        "\n",
        "\n",
        "for index in range(5):\n",
        "\n",
        "  (premise, conclusion) = support_sorted[index][0]\n",
        "  print_results(premise, conclusion, support, confidence, features)"
      ],
      "metadata": {
        "colab": {
          "base_uri": "https://localhost:8080/"
        },
        "id": "JXPkKSXEyRUu",
        "outputId": "ebc8a91c-2eda-4f34-fc95-0d9a53016207"
      },
      "execution_count": null,
      "outputs": [
        {
          "output_type": "stream",
          "name": "stdout",
          "text": [
            "If a viewer like BuraTech, they will also like VideoGameReviewer\n",
            "Confidence: 64.9%\n",
            "Support: 24\n",
            "\n",
            "If a viewer like VideoGameReviewer, they will also like BuraTech\n",
            "Confidence: 41.4%\n",
            "Support: 24\n",
            "\n",
            "If a viewer like FunnyCatVideos, they will also like VideoGameReviewer\n",
            "Confidence: 45.7%\n",
            "Support: 21\n",
            "\n",
            "If a viewer like VideoGameReviewer, they will also like FunnyCatVideos\n",
            "Confidence: 36.2%\n",
            "Support: 21\n",
            "\n",
            "If a viewer like MammothInteractive, they will also like VideoGameReviewer\n",
            "Confidence: 62.5%\n",
            "Support: 20\n",
            "\n"
          ]
        }
      ]
    },
    {
      "cell_type": "code",
      "source": [
        "confidence_sorted = sorted(confidence.items(),\n",
        "                        key = itemgetter(1),\n",
        "                        reverse = True)\n",
        "\n",
        "\n",
        "for index in range(5):\n",
        "\n",
        "  (premise, conclusion) = confidence_sorted[index][0]\n",
        "  print_results(premise, conclusion, support, confidence, features)"
      ],
      "metadata": {
        "colab": {
          "base_uri": "https://localhost:8080/"
        },
        "id": "EbDKXJv_zI_s",
        "outputId": "2636a0fe-6697-431e-8641-5e08ddf279bf"
      },
      "execution_count": null,
      "outputs": [
        {
          "output_type": "stream",
          "name": "stdout",
          "text": [
            "If a viewer like BuraTech, they will also like VideoGameReviewer\n",
            "Confidence: 64.9%\n",
            "Support: 24\n",
            "\n",
            "If a viewer like MammothInteractive, they will also like VideoGameReviewer\n",
            "Confidence: 62.5%\n",
            "Support: 20\n",
            "\n",
            "If a viewer like MammothInteractive, they will also like BuraTech\n",
            "Confidence: 50.0%\n",
            "Support: 16\n",
            "\n",
            "If a viewer like Investing101, they will also like FunnyCatVideos\n",
            "Confidence: 45.8%\n",
            "Support: 11\n",
            "\n",
            "If a viewer like Investing101, they will also like VideoGameReviewer\n",
            "Confidence: 45.8%\n",
            "Support: 11\n",
            "\n"
          ]
        }
      ]
    }
  ]
}